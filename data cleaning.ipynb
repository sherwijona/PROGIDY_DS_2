{
 "cells": [
  {
   "cell_type": "code",
   "execution_count": 7,
   "metadata": {},
   "outputs": [
    {
     "name": "stdout",
     "output_type": "stream",
     "text": [
      "      age  sex  cp  trestbps  chol  fbs  restecg  thalach  exang  oldpeak  \\\n",
      "0      52    1   0       125   212    0        1      168      0      1.0   \n",
      "1      53    1   0       140   203    1        0      155      1      3.1   \n",
      "2      70    1   0       145   174    0        1      125      1      2.6   \n",
      "3      61    1   0       148   203    0        1      161      0      0.0   \n",
      "4      62    0   0       138   294    1        1      106      0      1.9   \n",
      "...   ...  ...  ..       ...   ...  ...      ...      ...    ...      ...   \n",
      "1020   59    1   1       140   221    0        1      164      1      0.0   \n",
      "1021   60    1   0       125   258    0        0      141      1      2.8   \n",
      "1022   47    1   0       110   275    0        0      118      1      1.0   \n",
      "1023   50    0   0       110   254    0        0      159      0      0.0   \n",
      "1024   54    1   0       120   188    0        1      113      0      1.4   \n",
      "\n",
      "      slope  ca  thal  target  \n",
      "0         2   2     3       0  \n",
      "1         0   0     3       0  \n",
      "2         0   0     3       0  \n",
      "3         2   1     3       0  \n",
      "4         1   3     2       0  \n",
      "...     ...  ..   ...     ...  \n",
      "1020      2   0     2       1  \n",
      "1021      1   1     3       0  \n",
      "1022      1   1     2       0  \n",
      "1023      2   0     2       1  \n",
      "1024      1   1     3       0  \n",
      "\n",
      "[1025 rows x 14 columns]\n",
      "age         0\n",
      "sex         0\n",
      "cp          0\n",
      "trestbps    0\n",
      "chol        0\n",
      "fbs         0\n",
      "restecg     0\n",
      "thalach     0\n",
      "exang       0\n",
      "oldpeak     0\n",
      "slope       0\n",
      "ca          0\n",
      "thal        0\n",
      "target      0\n",
      "dtype: int64\n",
      "<class 'pandas.core.frame.DataFrame'>\n",
      "RangeIndex: 1025 entries, 0 to 1024\n",
      "Data columns (total 14 columns):\n",
      " #   Column    Non-Null Count  Dtype  \n",
      "---  ------    --------------  -----  \n",
      " 0   age       1025 non-null   int64  \n",
      " 1   sex       1025 non-null   int64  \n",
      " 2   cp        1025 non-null   int64  \n",
      " 3   trestbps  1025 non-null   int64  \n",
      " 4   chol      1025 non-null   int64  \n",
      " 5   fbs       1025 non-null   int64  \n",
      " 6   restecg   1025 non-null   int64  \n",
      " 7   thalach   1025 non-null   int64  \n",
      " 8   exang     1025 non-null   int64  \n",
      " 9   oldpeak   1025 non-null   float64\n",
      " 10  slope     1025 non-null   int64  \n",
      " 11  ca        1025 non-null   int64  \n",
      " 12  thal      1025 non-null   int64  \n",
      " 13  target    1025 non-null   int64  \n",
      "dtypes: float64(1), int64(13)\n",
      "memory usage: 112.2 KB\n"
     ]
    },
    {
     "data": {
      "image/png": "[encoded data removed]",
      "text/plain": [
       "<Figure size 432x288 with 1 Axes>"
      ]
     },
     "metadata": {
      "needs_background": "light"
     },
     "output_type": "display_data"
    },
    {
     "data": {
      "image/png": "[encoded data removed]",
      "text/plain": [
       "<Figure size 432x288 with 1 Axes>"
      ]
     },
     "metadata": {
      "needs_background": "light"
     },
     "output_type": "display_data"
    },
    {
     "data": {
      "image/png": "[encoded data removed]",
      "text/plain": [
       "<Figure size 432x288 with 1 Axes>"
      ]
     },
     "metadata": {
      "needs_background": "light"
     },
     "output_type": "display_data"
    },
    {
     "name": "stdout",
     "output_type": "stream",
     "text": [
      "               age       sex        cp  trestbps      chol       fbs  \\\n",
      "age       1.000000 -0.103240 -0.071966  0.271121  0.219823  0.121243   \n",
      "sex      -0.103240  1.000000 -0.041119 -0.078974 -0.198258  0.027200   \n",
      "cp       -0.071966 -0.041119  1.000000  0.038177 -0.081641  0.079294   \n",
      "trestbps  0.271121 -0.078974  0.038177  1.000000  0.127977  0.181767   \n",
      "chol      0.219823 -0.198258 -0.081641  0.127977  1.000000  0.026917   \n",
      "fbs       0.121243  0.027200  0.079294  0.181767  0.026917  1.000000   \n",
      "restecg  -0.132696 -0.055117  0.043581 -0.123794 -0.147410 -0.104051   \n",
      "thalach  -0.390227 -0.049365  0.306839 -0.039264 -0.021772 -0.008866   \n",
      "exang     0.088163  0.139157 -0.401513  0.061197  0.067382  0.049261   \n",
      "oldpeak   0.208137  0.084687 -0.174733  0.187434  0.064880  0.010859   \n",
      "slope    -0.169105 -0.026666  0.131633 -0.120445 -0.014248 -0.061902   \n",
      "ca        0.271551  0.111729 -0.176206  0.104554  0.074259  0.137156   \n",
      "thal      0.072297  0.198424 -0.163341  0.059276  0.100244 -0.042177   \n",
      "target   -0.229324 -0.279501  0.434854 -0.138772 -0.099966 -0.041164   \n",
      "\n",
      "           restecg   thalach     exang   oldpeak     slope        ca  \\\n",
      "age      -0.132696 -0.390227  0.088163  0.208137 -0.169105  0.271551   \n",
      "sex      -0.055117 -0.049365  0.139157  0.084687 -0.026666  0.111729   \n",
      "cp        0.043581  0.306839 -0.401513 -0.174733  0.131633 -0.176206   \n",
      "trestbps -0.123794 -0.039264  0.061197  0.187434 -0.120445  0.104554   \n",
      "chol     -0.147410 -0.021772  0.067382  0.064880 -0.014248  0.074259   \n",
      "fbs      -0.104051 -0.008866  0.049261  0.010859 -0.061902  0.137156   \n",
      "restecg   1.000000  0.048411 -0.065606 -0.050114  0.086086 -0.078072   \n",
      "thalach   0.048411  1.000000 -0.380281 -0.349796  0.395308 -0.207888   \n",
      "exang    -0.065606 -0.380281  1.000000  0.310844 -0.267335  0.107849   \n",
      "oldpeak  -0.050114 -0.349796  0.310844  1.000000 -0.575189  0.221816   \n",
      "slope     0.086086  0.395308 -0.267335 -0.575189  1.000000 -0.073440   \n",
      "ca       -0.078072 -0.207888  0.107849  0.221816 -0.073440  1.000000   \n",
      "thal     -0.020504 -0.098068  0.197201  0.202672 -0.094090  0.149014   \n",
      "target    0.134468  0.422895 -0.438029 -0.438441  0.345512 -0.382085   \n",
      "\n",
      "              thal    target  \n",
      "age       0.072297 -0.229324  \n",
      "sex       0.198424 -0.279501  \n",
      "cp       -0.163341  0.434854  \n",
      "trestbps  0.059276 -0.138772  \n",
      "chol      0.100244 -0.099966  \n",
      "fbs      -0.042177 -0.041164  \n",
      "restecg  -0.020504  0.134468  \n",
      "thalach  -0.098068  0.422895  \n",
      "exang     0.197201 -0.438029  \n",
      "oldpeak   0.202672 -0.438441  \n",
      "slope    -0.094090  0.345512  \n",
      "ca        0.149014 -0.382085  \n",
      "thal      1.000000 -0.337838  \n",
      "target   -0.337838  1.000000  \n"
     ]
    }
   ],
   "source": [
    "import pandas as pd\n",
    "import matplotlib.pyplot as plt\n",
    "\n",
    "data = pd.read_csv(\"D:\\sherwin\\heart.csv\")\n",
    "print(data)\n",
    "\n",
    "print(data.isnull().sum())  \n",
    "\n",
    "data.describe()  \n",
    "data.info()  \n",
    "\n",
    "for col in data.columns:\n",
    "    if pd.api.types.is_categorical_dtype(data[col]):\n",
    "        print(data[col].value_counts()) \n",
    "\n",
    "data['age'].hist()\n",
    "plt.xlabel('age')\n",
    "plt.ylabel('chol')\n",
    "plt.title('AGE')\n",
    "plt.show()\n",
    "\n",
    "\n",
    "data.boxplot(column='sex')\n",
    "plt.xlabel('sex')\n",
    "plt.ylabel('fbs')\n",
    "plt.title('SEX')\n",
    "plt.show()\n",
    "\n",
    "plt.scatter(data['sex'], data['age'])\n",
    "plt.xlabel('sex')\n",
    "plt.ylabel('age')\n",
    "plt.title('Scatter Plot of sex vs age')\n",
    "plt.show()\n",
    "\n",
    "correlation_matrix = data.corr()\n",
    "print(correlation_matrix)\n",
    "\n",
    "\n"
   ]
  },
  {
   "cell_type": "code",
   "execution_count": null,
   "metadata": {},
   "outputs": [],
   "source": []
  }
 ],
 "metadata": {
  "kernelspec": {
   "display_name": "Python 3",
   "language": "python",
   "name": "python3"
  },
  "language_info": {
   "codemirror_mode": {
    "name": "ipython",
    "version": 3
   },
   "file_extension": ".py",
   "mimetype": "text/x-python",
   "name": "python",
   "nbconvert_exporter": "python",
   "pygments_lexer": "ipython3",
   "version": "3.7.6"
  }
 },
 "nbformat": 4,
 "nbformat_minor": 4
}
